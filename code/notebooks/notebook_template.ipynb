{
 "cells": [
  {
   "cell_type": "markdown",
   "id": "531bde27-7177-4e8d-b01e-34010ff390d9",
   "metadata": {},
   "source": [
    "# Project name"
   ]
  },
  {
   "cell_type": "markdown",
   "id": "a58e294f-fa09-4b33-aafd-efe058f84f85",
   "metadata": {},
   "source": [
    "**Authors:** Grace Corcoran <br>\n",
    "**Last modififed:** 11/17/2024 (created: 11/17/2024)\n",
    "\n",
    "**Description:** Short paragraph explaining this project"
   ]
  },
  {
   "cell_type": "markdown",
   "id": "be67a3d9-7b32-4ab7-ac4c-23130472587b",
   "metadata": {},
   "source": [
    "<br>"
   ]
  },
  {
   "cell_type": "markdown",
   "id": "11f303d2-7d2b-46b8-9a90-cda90a7a51a2",
   "metadata": {},
   "source": [
    "Import Libraries:"
   ]
  },
  {
   "cell_type": "code",
   "execution_count": 5,
   "id": "a887ec0b-51d3-4cdd-b189-54eb959e1983",
   "metadata": {},
   "outputs": [],
   "source": [
    "import pandas as pd"
   ]
  },
  {
   "cell_type": "markdown",
   "id": "283ad093-d681-4b79-b16c-9960d61de0b8",
   "metadata": {},
   "source": [
    "<br>"
   ]
  },
  {
   "cell_type": "markdown",
   "id": "bb7346cd-308e-467c-85df-9c989896ccc1",
   "metadata": {},
   "source": [
    "Load data:"
   ]
  },
  {
   "cell_type": "code",
   "execution_count": 8,
   "id": "a6bd4c8a-9167-4180-bb23-136d99f09e94",
   "metadata": {},
   "outputs": [],
   "source": [
    "#code to read csv file"
   ]
  }
 ],
 "metadata": {
  "kernelspec": {
   "display_name": "Python 3 (ipykernel)",
   "language": "python",
   "name": "python3"
  },
  "language_info": {
   "codemirror_mode": {
    "name": "ipython",
    "version": 3
   },
   "file_extension": ".py",
   "mimetype": "text/x-python",
   "name": "python",
   "nbconvert_exporter": "python",
   "pygments_lexer": "ipython3",
   "version": "3.12.4"
  }
 },
 "nbformat": 4,
 "nbformat_minor": 5
}
